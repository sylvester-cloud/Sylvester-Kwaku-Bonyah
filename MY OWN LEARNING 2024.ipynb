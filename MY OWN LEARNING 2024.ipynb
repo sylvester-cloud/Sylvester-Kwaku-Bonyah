{
 "cells": [
  {
   "cell_type": "markdown",
   "id": "e1504702",
   "metadata": {},
   "source": [
    "## Modifying Strings"
   ]
  },
  {
   "cell_type": "code",
   "execution_count": 12,
   "id": "92514ac2",
   "metadata": {},
   "outputs": [
    {
     "name": "stdout",
     "output_type": "stream",
     "text": [
      "Hello python\n"
     ]
    }
   ],
   "source": [
    "# Using the UPPER function\n",
    "y = \"hello python\"\n",
    "print(y.capitalize())"
   ]
  },
  {
   "cell_type": "code",
   "execution_count": 26,
   "id": "18dd70ad",
   "metadata": {},
   "outputs": [
    {
     "name": "stdout",
     "output_type": "stream",
     "text": [
      "HELLO PYTHON\n",
      "environmental\n",
      "13\n"
     ]
    }
   ],
   "source": [
    "y = \"hello python\"\n",
    "x= \"ENVIRONMENTAL\"\n",
    "print(y.upper())\n",
    "print(x.lower())\n",
    "print(len(x))"
   ]
  },
  {
   "cell_type": "code",
   "execution_count": 23,
   "id": "b50eb71b",
   "metadata": {},
   "outputs": [
    {
     "name": "stdout",
     "output_type": "stream",
     "text": [
      "What are the your goals for the next 5 years?\n"
     ]
    }
   ],
   "source": [
    "# Removing white spaces\n",
    "Aspiration_long_term = \"        What are the your goals for the next 5 years?\"\n",
    "print(Aspiration_long_term.strip())"
   ]
  },
  {
   "cell_type": "code",
   "execution_count": 27,
   "id": "c3b574c5",
   "metadata": {},
   "outputs": [
    {
     "name": "stdout",
     "output_type": "stream",
     "text": [
      "The Net Zero ambtion is expected to be materialized in 6 years time. Are you prepared for it?\n"
     ]
    }
   ],
   "source": [
    "# Formatting strings using the FORMAT function\n",
    "time_frame = 6\n",
    "question = \"Are you prepared for it?\"\n",
    "important_message = \"The Net Zero ambtion is expected to be materialized in {} years time. \"\n",
    "print((important_message + question).format(time_frame))"
   ]
  },
  {
   "cell_type": "code",
   "execution_count": 32,
   "id": "82d9827c",
   "metadata": {},
   "outputs": [
    {
     "name": "stdout",
     "output_type": "stream",
     "text": [
      "The Net Zero ambtion is expected to be materialized in 10 years time Are you prepared for it?\n",
      "More room for improvement\n"
     ]
    }
   ],
   "source": [
    "time_frame = 10\n",
    "preparation_time = [3,5,6,7,8,9,10, 11]\n",
    "company_time = 12\n",
    "question = \"Are you prepared for it?\"\n",
    "important_message = \"The Net Zero ambtion is expected to be materialized in {} years time \"\n",
    "print((important_message + question).format(time_frame))\n",
    "if company_time < time_frame:\n",
    "    print(\"My company can achieve her targets!\")\n",
    "else:\n",
    "    print(\"More room for improvement\")\n"
   ]
  },
  {
   "cell_type": "markdown",
   "id": "9c0fbd00",
   "metadata": {},
   "source": [
    "## String Methods"
   ]
  },
  {
   "cell_type": "code",
   "execution_count": 34,
   "id": "96088f88",
   "metadata": {},
   "outputs": [
    {
     "name": "stdout",
     "output_type": "stream",
     "text": [
      "sylvester\n"
     ]
    }
   ],
   "source": [
    "# CASEFOLD works like the LOWER func\n",
    "name = \"SYLVESTER\"\n",
    "print(name.casefold())"
   ]
  },
  {
   "cell_type": "code",
   "execution_count": 51,
   "id": "ec62ac20",
   "metadata": {},
   "outputs": [
    {
     "name": "stdout",
     "output_type": "stream",
     "text": [
      "The net Zero ambtion is expected to be materialized in six years time. The net zero target is a must for all\n",
      "2\n"
     ]
    }
   ],
   "source": [
    "important_message = \"The net Zero ambtion is expected to be materialized in six years time. The net zero target is a must for all\"\n",
    "print(important_message.center(len(important_message)))\n",
    "print(important_message.count(\"net\"))"
   ]
  },
  {
   "cell_type": "code",
   "execution_count": 59,
   "id": "66080929",
   "metadata": {},
   "outputs": [],
   "source": [
    "important_message = \"The net Zero ambtion is expected to be materialized in six years time. The net Zero target is a must for all\"\n",
    "new = important_message.replace(\"net Zero\", \"Net Zero\")"
   ]
  },
  {
   "cell_type": "code",
   "execution_count": 60,
   "id": "1919413d",
   "metadata": {},
   "outputs": [
    {
     "name": "stdout",
     "output_type": "stream",
     "text": [
      "The Net Zero ambtion is expected to be materialized in six years time. The Net Zero target is a must for all\n"
     ]
    }
   ],
   "source": [
    "print(new)"
   ]
  },
  {
   "cell_type": "markdown",
   "id": "f8349070",
   "metadata": {},
   "source": [
    "## Python Boolean"
   ]
  },
  {
   "cell_type": "code",
   "execution_count": 62,
   "id": "09ec53cb",
   "metadata": {},
   "outputs": [
    {
     "name": "stdout",
     "output_type": "stream",
     "text": [
      "True\n",
      "True\n"
     ]
    }
   ],
   "source": [
    "print(bool(\"Hello world\"))\n",
    "print(bool(5))\n"
   ]
  },
  {
   "cell_type": "code",
   "execution_count": 64,
   "id": "1cec2143",
   "metadata": {},
   "outputs": [
    {
     "name": "stdout",
     "output_type": "stream",
     "text": [
      "True\n"
     ]
    }
   ],
   "source": [
    "# ISISNTANCE is a function used to test if a value is of a specific data type.\n",
    "x= 200\n",
    "print(isinstance(x,int))"
   ]
  },
  {
   "cell_type": "code",
   "execution_count": 2,
   "id": "951fdb48",
   "metadata": {},
   "outputs": [
    {
     "name": "stdout",
     "output_type": "stream",
     "text": [
      "My name is Sylvester, and I am 36.\n"
     ]
    }
   ],
   "source": [
    "# Combining string and number using the fomat () function\n",
    "Age = 36\n",
    "txt = \"My name is Sylvester, and I am {}.\"\n",
    "print(txt.format(36))"
   ]
  },
  {
   "cell_type": "code",
   "execution_count": 4,
   "id": "d5de2396",
   "metadata": {},
   "outputs": [
    {
     "name": "stdout",
     "output_type": "stream",
     "text": [
      "I want to buy 5 pieces of item 435 at a cost of 500\n"
     ]
    }
   ],
   "source": [
    "qty = 5\n",
    "items = 435\n",
    "price = 500\n",
    "message = \"I want to buy {} pieces of item {} at a cost of {}\"\n",
    "print(message.format(qty,items,price))\n"
   ]
  },
  {
   "cell_type": "code",
   "execution_count": 8,
   "id": "6c00f925",
   "metadata": {},
   "outputs": [
    {
     "name": "stdout",
     "output_type": "stream",
     "text": [
      " My name is Sylvester but I am popularly called \"Sly\" because of my personality\n"
     ]
    }
   ],
   "source": [
    "#Entering illegal characters using Escape characters\n",
    "name =\" My name is Sylvester but I am popularly called \\\"Sly\\\" because of my personality\"\n",
    "print(name)"
   ]
  },
  {
   "cell_type": "markdown",
   "id": "492473c6",
   "metadata": {},
   "source": [
    "## Python List"
   ]
  },
  {
   "cell_type": "code",
   "execution_count": 71,
   "id": "363dad78",
   "metadata": {},
   "outputs": [
    {
     "name": "stdout",
     "output_type": "stream",
     "text": [
      "['Äpple', 'Mango', 'Orange', 'Banana']\n",
      "4\n",
      "<class 'list'>\n"
     ]
    }
   ],
   "source": [
    "fruits = [\"Äpple\",\"Mango\",\"Orange\", \"Banana\"]\n",
    "print(fruits)\n",
    "print(len(fruits))\n",
    "print(type(fruits))"
   ]
  },
  {
   "cell_type": "code",
   "execution_count": 69,
   "id": "7cef4670",
   "metadata": {},
   "outputs": [
    {
     "name": "stdout",
     "output_type": "stream",
     "text": [
      "1\n"
     ]
    }
   ],
   "source": [
    "print(fruits.index(\"Mango\"))"
   ]
  },
  {
   "cell_type": "code",
   "execution_count": 72,
   "id": "fef5ddcf",
   "metadata": {},
   "outputs": [
    {
     "name": "stdout",
     "output_type": "stream",
     "text": [
      "['Äpple', 'Mango', 'Orange', 'Banana']\n"
     ]
    }
   ],
   "source": [
    "# Making a list using the list constructor\n",
    "my_fruits = list((\"Äpple\",\"Mango\",\"Orange\", \"Banana\"))\n",
    "print(my_fruits)"
   ]
  },
  {
   "cell_type": "code",
   "execution_count": 76,
   "id": "30103f12",
   "metadata": {},
   "outputs": [
    {
     "name": "stdout",
     "output_type": "stream",
     "text": [
      "YES!it is in the list\n"
     ]
    }
   ],
   "source": [
    "## To determine if a specified item is present in a list use the \"\"in\"\" keyword:\n",
    "fruits = [\"Äpple\",\"Mango\",\"Orange\", \"Banana\"]\n",
    "if \"Orange\" in fruits:\n",
    "    print(\"YES!it is in the list\")\n",
    "else:\n",
    "    print(\"Not in the list\")"
   ]
  },
  {
   "cell_type": "code",
   "execution_count": 79,
   "id": "56a68b9b",
   "metadata": {},
   "outputs": [
    {
     "name": "stdout",
     "output_type": "stream",
     "text": [
      "['Äpple', 'Mango', 'Watermeloon', 'Banana']\n"
     ]
    }
   ],
   "source": [
    "#Change Item Value\n",
    "fruits = [\"Äpple\",\"Mango\",\"Orange\", \"Banana\"]\n",
    "fruits[2]=\"Watermeloon\"\n",
    "print(fruits)"
   ]
  },
  {
   "cell_type": "code",
   "execution_count": 84,
   "id": "aa4986ca",
   "metadata": {},
   "outputs": [
    {
     "name": "stdout",
     "output_type": "stream",
     "text": [
      "['Äpple', 'Mango', 'Watermeloon', 'Banana', ['Kiwi', 'Orange'], ('Kiwi', 'Orange'), ('Kiwi', 'Orange'), 'Pineapple']\n"
     ]
    }
   ],
   "source": [
    "my_fruit =(\"Kiwi\",\"Orange\")\n",
    "fruits.append(my_fruit)\n",
    "fruits.append(\"Pineapple\")\n",
    "print(fruits)"
   ]
  },
  {
   "cell_type": "code",
   "execution_count": null,
   "id": "11871158",
   "metadata": {},
   "outputs": [],
   "source": [
    "## Using the POP and INSERT functions to remove and replace values or items in a list"
   ]
  },
  {
   "cell_type": "code",
   "execution_count": 89,
   "id": "b19e123a",
   "metadata": {},
   "outputs": [
    {
     "name": "stdout",
     "output_type": "stream",
     "text": [
      "['Äpple', 'Mango', 'Pineapple', 'Watermeloon', 'Banana', ['Kiwi', 'Orange'], ('Kiwi', 'Orange'), ('Kiwi', 'Orange'), ('Kiwi', 'Orange'), 'Pineapple']\n"
     ]
    }
   ],
   "source": [
    "my_fruit =(\"Kiwi\",\"Orange\")\n",
    "fruits.insert(5,my_fruit)\n",
    "fruits.insert(2,\"Pineapple\")\n",
    "print(fruits)"
   ]
  },
  {
   "cell_type": "code",
   "execution_count": 94,
   "id": "434ab766",
   "metadata": {},
   "outputs": [
    {
     "name": "stdout",
     "output_type": "stream",
     "text": [
      "Removed: Grapes\n",
      "Updated List: ['Apple', 'Banana', 'Orange', 'Straberries', 'Cherry']\n"
     ]
    }
   ],
   "source": [
    "fruits = [\"Apple\", \"Banana\", \"Orange\", \"Grapes\", \"Cherry\"]\n",
    "index_to_remove= 3\n",
    "if 0 <= index_to_remove < len(fruits):\n",
    "    removed_fruit=fruits.pop(index_to_remove)\n",
    "    fruits.insert(index_to_remove,\"Straberries\")\n",
    "    print(\"Removed:\",removed_fruit)\n",
    "    print(\"Updated List:\", fruits)\n",
    "else:\n",
    "    print(\"Invalid Index provided\")"
   ]
  },
  {
   "cell_type": "code",
   "execution_count": 96,
   "id": "444d64d7",
   "metadata": {},
   "outputs": [
    {
     "name": "stdout",
     "output_type": "stream",
     "text": [
      "Removed Country: Spain\n",
      "Updated List of Countries: ['Belgium', 'Austra', 'Germany', 'the Netherlands', 'Italy']\n"
     ]
    }
   ],
   "source": [
    "list_countries = [\"Belgium\",\"Austra\", \"Spain\", \"the Netherlands\",\"Italy\"]\n",
    "relevant_index = 2\n",
    "if 0<= relevant_index < len(list_countries):\n",
    "    removed_country= list_countries.pop(relevant_index)\n",
    "    list_countries.insert(relevant_index, \"Germany\")\n",
    "    print(\"Removed Country:\", removed_country)\n",
    "    print(\"Updated List of Countries:\", list_countries)"
   ]
  },
  {
   "cell_type": "code",
   "execution_count": 100,
   "id": "860bd446",
   "metadata": {},
   "outputs": [
    {
     "name": "stdout",
     "output_type": "stream",
     "text": [
      "Removed Country: Austra\n",
      "Updated List of Countries: ['Belgium', ['Germany', 'Poland'], 'Spain', 'the Netherlands', 'Italy']\n"
     ]
    }
   ],
   "source": [
    "list_countries = [\"Belgium\",\"Austra\", \"Spain\", \"the Netherlands\",\"Italy\"]\n",
    "relevant_index = 1\n",
    "new_countries_list = [\"Germany\",\"Poland\"]\n",
    "removed_country= list_countries.pop(relevant_index)\n",
    "list_countries.insert(relevant_index,new_countries_list)\n",
    "print(\"Removed Country:\", removed_country)\n",
    "print(\"Updated List of Countries:\", list_countries)"
   ]
  },
  {
   "cell_type": "code",
   "execution_count": 108,
   "id": "f857c5ee",
   "metadata": {},
   "outputs": [
    {
     "name": "stdout",
     "output_type": "stream",
     "text": [
      "Combination of Items:  ['Belgium', 'Austra', 'Spain', 'the Netherlands', 'Italy', 'Apple', 'Banana', 'Orange', 'Grapes', 'Cherry']\n"
     ]
    }
   ],
   "source": [
    "#Adding a list to another list using the EXTEND function\n",
    "list_countries = [\"Belgium\",\"Austra\", \"Spain\", \"the Netherlands\",\"Italy\"]\n",
    "fruits = [\"Apple\", \"Banana\", \"Orange\", \"Grapes\", \"Cherry\"]\n",
    "list_countries.extend(fruits)\n",
    "print(\"Combination of Items: \", list_countries)"
   ]
  },
  {
   "cell_type": "code",
   "execution_count": 109,
   "id": "21490ed9",
   "metadata": {},
   "outputs": [
    {
     "name": "stdout",
     "output_type": "stream",
     "text": [
      "New addition: ['Belgium', 'Austra', 'Spain', 'the Netherlands', 'Italy', 'Apple', 'Banana', 'Orange', 'Grapes', 'Cherry']\n"
     ]
    }
   ],
   "source": [
    "## Using EXTEND function to combine list and tuples, dict etc\n",
    "countries = [\"Belgium\",\"Austra\", \"Spain\", \"the Netherlands\",\"Italy\"]\n",
    "fruits = (\"Apple\", \"Banana\", \"Orange\", \"Grapes\", \"Cherry\")\n",
    "countries.extend(fruits)\n",
    "print(\"New addition:\",countries)"
   ]
  },
  {
   "cell_type": "code",
   "execution_count": 111,
   "id": "42224810",
   "metadata": {},
   "outputs": [
    {
     "name": "stdout",
     "output_type": "stream",
     "text": [
      "['Belgium', 'Austra', 'the Netherlands']\n"
     ]
    }
   ],
   "source": [
    "list_countries = [\"Belgium\",\"Austra\", \"Spain\", \"the Netherlands\",\"Italy\"]\n",
    "list_countries.remove(\"Spain\")\n",
    "list_countries.pop()\n",
    "print(list_countries)"
   ]
  },
  {
   "cell_type": "code",
   "execution_count": 114,
   "id": "411069d3",
   "metadata": {},
   "outputs": [
    {
     "name": "stdout",
     "output_type": "stream",
     "text": [
      "[]\n"
     ]
    }
   ],
   "source": [
    "##Usimg the CLEAR function to remove values or items from a list\n",
    "list_countries = [\"Belgium\",\"Austra\", \"Spain\", \"the Netherlands\",\"Italy\"]\n",
    "list_countries.clear()\n",
    "print(list_countries)"
   ]
  },
  {
   "cell_type": "markdown",
   "id": "1b61e18d",
   "metadata": {},
   "source": [
    "## Python  - Loop List"
   ]
  },
  {
   "cell_type": "code",
   "execution_count": 115,
   "id": "97608a02",
   "metadata": {},
   "outputs": [
    {
     "name": "stdout",
     "output_type": "stream",
     "text": [
      "Belgium\n",
      "Austra\n",
      "Spain\n",
      "the Netherlands\n",
      "Italy\n"
     ]
    }
   ],
   "source": [
    "list_countries = [\"Belgium\",\"Austra\", \"Spain\", \"the Netherlands\",\"Italy\"]\n",
    "for i in list_countries:\n",
    "    print(i)"
   ]
  },
  {
   "cell_type": "code",
   "execution_count": 116,
   "id": "8e7d49df",
   "metadata": {},
   "outputs": [
    {
     "name": "stdout",
     "output_type": "stream",
     "text": [
      "Belgium\n",
      "Austra\n",
      "Spain\n",
      "the Netherlands\n",
      "Italy\n"
     ]
    }
   ],
   "source": [
    "#Using INDEX number to loop through a list\n",
    "list_countries = [\"Belgium\",\"Austra\", \"Spain\", \"the Netherlands\",\"Italy\"]\n",
    "for i in range(len(list_countries)):\n",
    "    print(list_countries[i])\n"
   ]
  },
  {
   "cell_type": "code",
   "execution_count": 117,
   "id": "492cbd00",
   "metadata": {},
   "outputs": [
    {
     "name": "stdout",
     "output_type": "stream",
     "text": [
      "Belgium\n",
      "Austra\n",
      "Spain\n",
      "the Netherlands\n",
      "Italy\n"
     ]
    }
   ],
   "source": [
    "list_countries = [\"Belgium\",\"Austra\", \"Spain\", \"the Netherlands\",\"Italy\"]\n",
    "i = 0\n",
    "while i < len(list_countries):\n",
    "    print(list_countries[i])\n",
    "    i = i + 1"
   ]
  },
  {
   "cell_type": "code",
   "execution_count": 118,
   "id": "6a73ddc5",
   "metadata": {},
   "outputs": [
    {
     "name": "stdout",
     "output_type": "stream",
     "text": [
      "Belgium\n",
      "Austra\n",
      "Spain\n",
      "the Netherlands\n",
      "Italy\n"
     ]
    },
    {
     "data": {
      "text/plain": [
       "[None, None, None, None, None]"
      ]
     },
     "execution_count": 118,
     "metadata": {},
     "output_type": "execute_result"
    }
   ],
   "source": [
    "## Looping Using List Comprehension\n",
    "#List Comprehension offers the shortest syntax for looping through lists:\n",
    "list_countries = [\"Belgium\",\"Austra\", \"Spain\", \"the Netherlands\",\"Italy\"]\n",
    "[print(i) for i in list_countries]"
   ]
  },
  {
   "cell_type": "code",
   "execution_count": 120,
   "id": "caa314c7",
   "metadata": {},
   "outputs": [
    {
     "name": "stdout",
     "output_type": "stream",
     "text": [
      "Apple\n",
      "Banana\n",
      "Orange\n",
      "Grapes\n",
      "Cherry\n"
     ]
    },
    {
     "data": {
      "text/plain": [
       "[None, None, None, None, None]"
      ]
     },
     "execution_count": 120,
     "metadata": {},
     "output_type": "execute_result"
    }
   ],
   "source": [
    "fruits = [\"Apple\", \"Banana\", \"Orange\", \"Grapes\", \"Cherry\"]\n",
    "[print(x) for x in fruits]"
   ]
  },
  {
   "cell_type": "markdown",
   "id": "e0ecf20d",
   "metadata": {},
   "source": [
    "## Python - List Comprehension\n"
   ]
  },
  {
   "cell_type": "code",
   "execution_count": 129,
   "id": "b786a4de",
   "metadata": {},
   "outputs": [
    {
     "name": "stdout",
     "output_type": "stream",
     "text": [
      "['Grapes']\n"
     ]
    }
   ],
   "source": [
    "#Creating a new list based on the values of an existing list. \n",
    "fruits = [\"Apple\", \"Banana\", \"Orange\", \"Grapes\", \"Cherry\"]\n",
    "Newlist = []\n",
    "letter = \"G\"\n",
    "for i in fruits:\n",
    "    if letter in i:\n",
    "        Newlist.append(i)\n",
    "print(Newlist)"
   ]
  },
  {
   "cell_type": "code",
   "execution_count": 130,
   "id": "73d5cba2",
   "metadata": {},
   "outputs": [
    {
     "name": "stdout",
     "output_type": "stream",
     "text": [
      "['Spain']\n"
     ]
    }
   ],
   "source": [
    "#Aplication of LIst Comprehension\n",
    "list_countries = [\"Belgium\",\"Austra\", \"Spain\", \"the Netherlands\",\"Italy\"]\n",
    "new_list = [x for x in list_countries if \"S\" in x ]\n",
    "print(new_list)"
   ]
  },
  {
   "cell_type": "code",
   "execution_count": 139,
   "id": "db7fb880",
   "metadata": {},
   "outputs": [
    {
     "name": "stdout",
     "output_type": "stream",
     "text": [
      "['Banana']\n"
     ]
    },
    {
     "data": {
      "text/plain": [
       "['Banana']"
      ]
     },
     "execution_count": 139,
     "metadata": {},
     "output_type": "execute_result"
    }
   ],
   "source": [
    "fruits = [\"Apple\", \"Banana\", \"Orange\", \"Grapes\", \"Cherry\"]\n",
    "new_list =[i for i in fruits if \"B\" in i]\n",
    "print(new_list)\n",
    "[i for i in fruits if \"B\" in i]"
   ]
  },
  {
   "cell_type": "code",
   "execution_count": 140,
   "id": "25e7605f",
   "metadata": {},
   "outputs": [
    {
     "name": "stdout",
     "output_type": "stream",
     "text": [
      "['Apple', 'Banana', 'Orange', 'Cherry']\n"
     ]
    }
   ],
   "source": [
    "fruits = [\"Apple\", \"Banana\", \"Orange\", \"Grapes\", \"Cherry\"]\n",
    "new = [x for x in fruits if x !=\"Grapes\"]\n",
    "print(new)"
   ]
  },
  {
   "cell_type": "code",
   "execution_count": 143,
   "id": "ef9cb50f",
   "metadata": {},
   "outputs": [
    {
     "name": "stdout",
     "output_type": "stream",
     "text": [
      "[0, 1, 2, 3, 4]\n"
     ]
    }
   ],
   "source": [
    "# Using the RANGE function to create the iterable\n",
    "fruits = [\"Apple\", \"Banana\", \"Orange\", \"Grapes\", \"Cherry\"]\n",
    "new = [i for i in range(10) if i < 5]\n",
    "print(new)"
   ]
  },
  {
   "cell_type": "code",
   "execution_count": 144,
   "id": "aa880fb3",
   "metadata": {},
   "outputs": [
    {
     "name": "stdout",
     "output_type": "stream",
     "text": [
      "['APPLE', 'BANANA', 'ORANGE', 'GRAPES', 'CHERRY']\n"
     ]
    }
   ],
   "source": [
    "# Manipulation of the items before display\n",
    "fruits = [\"Apple\", \"Banana\", \"Orange\", \"Grapes\", \"Cherry\"]\n",
    "new = [i.upper() for i in fruits]\n",
    "print(new)"
   ]
  },
  {
   "cell_type": "code",
   "execution_count": 148,
   "id": "4c992a5d",
   "metadata": {},
   "outputs": [
    {
     "name": "stdout",
     "output_type": "stream",
     "text": [
      "['Apple', 'Banana', 'Orange', 'Grapes', 'Cherry']\n"
     ]
    }
   ],
   "source": [
    "fruits = [\"Apple\", \"Banana\", \"Orange\", \"Grapes\", \"Cherry\"]\n",
    "new = [i if i.upper() != \"Banana\" else \"Orange\" for i in fruits ]\n",
    "print(new)"
   ]
  },
  {
   "cell_type": "markdown",
   "id": "12ce2656",
   "metadata": {},
   "source": [
    "## Sorting list"
   ]
  },
  {
   "cell_type": "code",
   "execution_count": 149,
   "id": "98e0bce7",
   "metadata": {},
   "outputs": [
    {
     "name": "stdout",
     "output_type": "stream",
     "text": [
      "['banana', 'kiwi', 'mango', 'orange', 'pineapple']\n"
     ]
    }
   ],
   "source": [
    "# Sorting in a descending order or alphabetical order\n",
    "list = [\"orange\", \"mango\", \"kiwi\", \"pineapple\", \"banana\"]\n",
    "list.sort()\n",
    "print(list)"
   ]
  },
  {
   "cell_type": "code",
   "execution_count": 150,
   "id": "9c9822fc",
   "metadata": {},
   "outputs": [
    {
     "name": "stdout",
     "output_type": "stream",
     "text": [
      "[23, 50, 65, 82, 100]\n"
     ]
    }
   ],
   "source": [
    "thislist = [100, 50, 65, 82, 23]\n",
    "thislist.sort()\n",
    "print(thislist)"
   ]
  },
  {
   "cell_type": "code",
   "execution_count": 151,
   "id": "c2167eaf",
   "metadata": {},
   "outputs": [
    {
     "name": "stdout",
     "output_type": "stream",
     "text": [
      "['pineapple', 'orange', 'mango', 'kiwi', 'banana']\n"
     ]
    }
   ],
   "source": [
    "# Sorting in a descending order using the keyword argument\n",
    "list = [\"orange\", \"mango\", \"kiwi\", \"pineapple\", \"banana\"]\n",
    "list.sort(reverse = True)\n",
    "print(list)"
   ]
  },
  {
   "cell_type": "code",
   "execution_count": 152,
   "id": "319230fb",
   "metadata": {},
   "outputs": [
    {
     "name": "stdout",
     "output_type": "stream",
     "text": [
      "[100, 82, 65, 50, 23]\n"
     ]
    }
   ],
   "source": [
    "thislist = [100, 50, 65, 82, 23]\n",
    "thislist.sort(reverse = True)\n",
    "print(thislist)"
   ]
  },
  {
   "cell_type": "code",
   "execution_count": 153,
   "id": "6592e406",
   "metadata": {},
   "outputs": [
    {
     "name": "stdout",
     "output_type": "stream",
     "text": [
      "[50, 65, 23, 82, 100]\n"
     ]
    }
   ],
   "source": [
    "# Customizing the SORT function using the key word argument KEY = FUNCTION\n",
    "def myfunc(n):\n",
    "    return abs(n-50)\n",
    "list = [100, 50, 65, 82, 23]\n",
    "list.sort(key = myfunc)\n",
    "print(list)"
   ]
  },
  {
   "cell_type": "code",
   "execution_count": 157,
   "id": "e66caab1",
   "metadata": {},
   "outputs": [
    {
     "name": "stdout",
     "output_type": "stream",
     "text": [
      "['Austra', 'Italy', 'belgium', 'spain', 'the Netherlands']\n"
     ]
    }
   ],
   "source": [
    "# Case sensitivity of the SORT function\n",
    "list_countries = [\"belgium\",\"Austra\", \"spain\", \"the Netherlands\",\"Italy\"]\n",
    "list_countries.sort()\n",
    "print(list_countries)"
   ]
  },
  {
   "cell_type": "code",
   "execution_count": 159,
   "id": "bd190634",
   "metadata": {},
   "outputs": [
    {
     "name": "stdout",
     "output_type": "stream",
     "text": [
      "['Austra', 'belgium', 'Italy', 'spain', 'the Netherlands']\n"
     ]
    }
   ],
   "source": [
    "#To correct the unexpected result above, I will use the str.lower function\n",
    "list_countries = [\"belgium\",\"Austra\", \"spain\", \"the Netherlands\",\"Italy\"]\n",
    "list_countries.sort(key = str.lower)\n",
    "print(list_countries)"
   ]
  },
  {
   "cell_type": "code",
   "execution_count": 160,
   "id": "d7ea98da",
   "metadata": {},
   "outputs": [
    {
     "name": "stdout",
     "output_type": "stream",
     "text": [
      "['Italy', 'the Netherlands', 'spain', 'Austra', 'belgium']\n"
     ]
    }
   ],
   "source": [
    "# Reverse the order of a list regardless of the alphabets\n",
    "list_countries = [\"belgium\",\"Austra\", \"spain\", \"the Netherlands\",\"Italy\"]\n",
    "list_countries.reverse()\n",
    "print(list_countries)"
   ]
  },
  {
   "cell_type": "markdown",
   "id": "0df21c33",
   "metadata": {},
   "source": [
    "## Python Tuples"
   ]
  },
  {
   "cell_type": "code",
   "execution_count": 162,
   "id": "b4794489",
   "metadata": {},
   "outputs": [
    {
     "name": "stdout",
     "output_type": "stream",
     "text": [
      "(1, 2, 3, 4, 5)\n"
     ]
    },
    {
     "data": {
      "text/plain": [
       "tuple"
      ]
     },
     "execution_count": 162,
     "metadata": {},
     "output_type": "execute_result"
    }
   ],
   "source": [
    "my_tuples=(1,2,3,4,5)\n",
    "print(my_tuples)\n",
    "type(my_tuples)"
   ]
  },
  {
   "cell_type": "code",
   "execution_count": 167,
   "id": "c958dd7d",
   "metadata": {},
   "outputs": [
    {
     "name": "stdout",
     "output_type": "stream",
     "text": [
      "('belgium', 'Austra', 'spain', 'the Netherlands', 'Italy')\n"
     ]
    },
    {
     "data": {
      "text/plain": [
       "tuple"
      ]
     },
     "execution_count": 167,
     "metadata": {},
     "output_type": "execute_result"
    }
   ],
   "source": [
    "# Creating a tuple using \n",
    "list_countries = (\"belgium\",\"Austra\", \"spain\", \"the Netherlands\",\"Italy\")\n",
    "\n",
    "print(list_countries)\n",
    "type(list_countries)"
   ]
  },
  {
   "cell_type": "code",
   "execution_count": 172,
   "id": "329b4a3e",
   "metadata": {},
   "outputs": [
    {
     "name": "stdout",
     "output_type": "stream",
     "text": [
      "spain\n",
      "('Austra', 'spain', 'the Netherlands', 'Italy')\n"
     ]
    }
   ],
   "source": [
    "#Accessing tuple items using their index numbers in a squared bracket\n",
    "print(list_countries[2])\n",
    "print(list_countries[-4:])"
   ]
  },
  {
   "cell_type": "code",
   "execution_count": 174,
   "id": "9f64b618",
   "metadata": {
    "scrolled": true
   },
   "outputs": [
    {
     "name": "stdout",
     "output_type": "stream",
     "text": [
      "Yes, it is in the list.\n"
     ]
    }
   ],
   "source": [
    "list_countries = (\"belgium\",\"Austra\", \"spain\", \"the Netherlands\",\"Italy\")\n",
    "if \"Italy\" in list_countries:\n",
    "    print(\"Yes, it is in the list.\")"
   ]
  },
  {
   "cell_type": "markdown",
   "id": "0ccf9204",
   "metadata": {},
   "source": [
    "## Updating Tuples"
   ]
  },
  {
   "cell_type": "code",
   "execution_count": 2,
   "id": "5ae67a0a",
   "metadata": {},
   "outputs": [
    {
     "name": "stdout",
     "output_type": "stream",
     "text": [
      "('Belgium', 'Austra', 'Spain', 'Romania', 'Italy')\n"
     ]
    }
   ],
   "source": [
    "x = (\"Belgium\",\"Austra\", \"Spain\", \"the Netherlands\",\"Italy\")\n",
    "y = list(x)\n",
    "y[3] = \"Romania\"\n",
    "x = tuple(y)\n",
    "print(x)"
   ]
  },
  {
   "cell_type": "code",
   "execution_count": 3,
   "id": "d5877177",
   "metadata": {},
   "outputs": [
    {
     "name": "stdout",
     "output_type": "stream",
     "text": [
      "Belgium\n",
      "Spain\n",
      "Italy\n"
     ]
    }
   ],
   "source": [
    "# Unpacking Tuples\n",
    "x = (\"Belgium\",\"Spain\",\"Italy\")\n",
    "(Dutch,Spanish,Italiano) = x\n",
    "print(Dutch)\n",
    "print(Spanish)\n",
    "print(Italiano)"
   ]
  },
  {
   "cell_type": "code",
   "execution_count": 4,
   "id": "c714cc84",
   "metadata": {},
   "outputs": [
    {
     "name": "stdout",
     "output_type": "stream",
     "text": [
      "apple\n",
      "banana\n",
      "['cherry', 'strawberry', 'raspberry']\n"
     ]
    }
   ],
   "source": [
    "fruits = (\"apple\", \"banana\", \"cherry\", \"strawberry\", \"raspberry\")\n",
    "(green, yellow, *red) = fruits\n",
    "print(green)\n",
    "print(yellow)\n",
    "print(red)"
   ]
  },
  {
   "cell_type": "markdown",
   "id": "6245b6d2",
   "metadata": {},
   "source": [
    "## Python Sets"
   ]
  },
  {
   "cell_type": "code",
   "execution_count": 5,
   "id": "394658e3",
   "metadata": {},
   "outputs": [
    {
     "data": {
      "text/plain": [
       "set"
      ]
     },
     "execution_count": 5,
     "metadata": {},
     "output_type": "execute_result"
    }
   ],
   "source": [
    "fruits = {\"apple\", \"banana\", \"cherry\", \"strawberry\", \"raspberry\"}\n",
    "type(fruits)\n"
   ]
  },
  {
   "cell_type": "code",
   "execution_count": 6,
   "id": "1295a431",
   "metadata": {},
   "outputs": [
    {
     "name": "stdout",
     "output_type": "stream",
     "text": [
      "cherry\n",
      "raspberry\n",
      "strawberry\n",
      "apple\n",
      "banana\n"
     ]
    }
   ],
   "source": [
    "fruits = {\"apple\", \"banana\", \"cherry\", \"strawberry\", \"raspberry\"}\n",
    "for x in fruits:\n",
    "    print(x)"
   ]
  },
  {
   "cell_type": "code",
   "execution_count": 7,
   "id": "77e94417",
   "metadata": {},
   "outputs": [
    {
     "name": "stdout",
     "output_type": "stream",
     "text": [
      "Yes! It is present\n"
     ]
    }
   ],
   "source": [
    "fruits = {\"apple\", \"banana\", \"cherry\", \"strawberry\", \"raspberry\"}\n",
    "if \"banana\" in fruits:\n",
    "    print(\"Yes! It is present\")"
   ]
  },
  {
   "cell_type": "code",
   "execution_count": 8,
   "id": "d9b7ba39",
   "metadata": {},
   "outputs": [
    {
     "name": "stdout",
     "output_type": "stream",
     "text": [
      "{'cherry', 'raspberry', 'strawberry', 'Orange', 'apple', 'banana'}\n"
     ]
    }
   ],
   "source": [
    "# Items in a set cannot be changed but new items can be added using the ADD function\n",
    "fruits = {\"apple\", \"banana\", \"cherry\", \"strawberry\", \"raspberry\"}\n",
    "fruits.add(\"Orange\")\n",
    "print(fruits)"
   ]
  },
  {
   "cell_type": "code",
   "execution_count": 9,
   "id": "aef9af3c",
   "metadata": {},
   "outputs": [
    {
     "name": "stdout",
     "output_type": "stream",
     "text": [
      "{'cherry', 'Mango', 'raspberry', 'strawberry', 'Papaya', 'apple', 'banana'}\n"
     ]
    }
   ],
   "source": [
    "#Using the UPDATE function to add two different sets\n",
    "fruits = {\"apple\", \"banana\", \"cherry\", \"strawberry\", \"raspberry\"}\n",
    "tropical= set((\"Papaya\",\"Mango\"))\n",
    "fruits.update(tropical)\n",
    "print(fruits)"
   ]
  },
  {
   "cell_type": "code",
   "execution_count": 11,
   "id": "b752e38c",
   "metadata": {},
   "outputs": [
    {
     "name": "stdout",
     "output_type": "stream",
     "text": [
      "{'cherry', 'Mango', 'raspberry', 'strawberry', 'Papaya', 'apple', 'banana'}\n",
      "<class 'list'>\n"
     ]
    }
   ],
   "source": [
    "fruits = {\"apple\", \"banana\", \"cherry\", \"strawberry\", \"raspberry\"}\n",
    "tropical= list((\"Papaya\",\"Mango\"))\n",
    "fruits.update(tropical)\n",
    "print(fruits)\n",
    "print(type(tropical))"
   ]
  },
  {
   "cell_type": "code",
   "execution_count": 12,
   "id": "d9b82190",
   "metadata": {},
   "outputs": [
    {
     "name": "stdout",
     "output_type": "stream",
     "text": [
      "{'cherry', 'Mango', 'raspberry', 'strawberry', 'Papaya', 'apple', 'banana'}\n"
     ]
    }
   ],
   "source": [
    "# Adding sets using the UNION function\n",
    "fruits = {\"apple\", \"banana\", \"cherry\", \"strawberry\", \"raspberry\"}\n",
    "tropical= set((\"Papaya\",\"Mango\"))\n",
    "new = fruits.union(tropical)\n",
    "print(new)"
   ]
  },
  {
   "cell_type": "markdown",
   "id": "93b54bbd",
   "metadata": {},
   "source": [
    "## Python Dictionaries"
   ]
  },
  {
   "cell_type": "code",
   "execution_count": 15,
   "id": "dfa2b219",
   "metadata": {},
   "outputs": [
    {
     "name": "stdout",
     "output_type": "stream",
     "text": [
      "Details:  {'Year': 2023, 'Name': 'Sylvester', 'Profession': 'ESG Analyst'}\n"
     ]
    }
   ],
   "source": [
    "my_dict ={\n",
    "    \"Year\":2023,\n",
    "    \"Name\":\"Sylvester\",\n",
    "    \"Profession\":\"ESG Analyst\"\n",
    "}\n",
    "print(\"Details: \",my_dict)"
   ]
  },
  {
   "cell_type": "code",
   "execution_count": 19,
   "id": "85412af7",
   "metadata": {},
   "outputs": [
    {
     "name": "stdout",
     "output_type": "stream",
     "text": [
      "ESG Analyst\n",
      "Sylvester\n"
     ]
    }
   ],
   "source": [
    "my_dict ={\n",
    "    \"Year\":2023,\n",
    "    \"Name\":\"Sylvester\",\n",
    "    \"Profession\":\"ESG Analyst\"\n",
    "}\n",
    "print(my_dict[\"Profession\"])\n",
    "print(my_dict.get(\"Name\"))"
   ]
  },
  {
   "cell_type": "code",
   "execution_count": 22,
   "id": "efb95708",
   "metadata": {},
   "outputs": [
    {
     "name": "stdout",
     "output_type": "stream",
     "text": [
      "Details:  {'Year': 2024, 'Name': 'Sylvester', 'Profession': 'ESG Analyst'}\n",
      "3\n"
     ]
    },
    {
     "data": {
      "text/plain": [
       "dict_keys(['Year', 'Name', 'Profession'])"
      ]
     },
     "execution_count": 22,
     "metadata": {},
     "output_type": "execute_result"
    }
   ],
   "source": [
    "my_dict ={\n",
    "    \"Year\":2023,\n",
    "    \"Name\":\"Sylvester\",\n",
    "    \"Profession\":\"ESG Analyst\",\n",
    "    \"Year\":2024\n",
    "}\n",
    "print(\"Details: \",my_dict)\n",
    "print(len(my_dict))\n",
    "my_dict.keys()\n"
   ]
  },
  {
   "cell_type": "code",
   "execution_count": 26,
   "id": "88708c41",
   "metadata": {},
   "outputs": [
    {
     "name": "stdout",
     "output_type": "stream",
     "text": [
      "dict_keys(['Year', 'Name', 'Profession'])\n",
      "Details:  {'Year': 2023, 'Name': 'Sylvester', 'Profession': 'ESG Analyst', 'School': 'Erasmus University Rotterdam'}\n"
     ]
    }
   ],
   "source": [
    "my_dict ={\n",
    "    \"Year\":2023,\n",
    "    \"Name\":\"Sylvester\",\n",
    "    \"Profession\":\"ESG Analyst\"\n",
    "}\n",
    "\n",
    "x = my_dict.keys()\n",
    "print(x)\n",
    "my_dict[\"School\"]=\"Erasmus University Rotterdam\"\n",
    "print(\"Details: \",my_dict)"
   ]
  },
  {
   "cell_type": "code",
   "execution_count": 27,
   "id": "381f63da",
   "metadata": {},
   "outputs": [
    {
     "name": "stdout",
     "output_type": "stream",
     "text": [
      "Year\n",
      "Name\n",
      "Profession\n"
     ]
    }
   ],
   "source": [
    "# Displaying all the KEYS\n",
    "my_dict ={\n",
    "    \"Year\":2023,\n",
    "    \"Name\":\"Sylvester\",\n",
    "    \"Profession\":\"ESG Analyst\"\n",
    "}\n",
    "for x in my_dict:\n",
    "    print(x)"
   ]
  },
  {
   "cell_type": "code",
   "execution_count": 28,
   "id": "f2251cfb",
   "metadata": {},
   "outputs": [
    {
     "name": "stdout",
     "output_type": "stream",
     "text": [
      "2023\n",
      "Sylvester\n",
      "ESG Analyst\n"
     ]
    }
   ],
   "source": [
    "# Displaying all the VALUES in the dictionary\n",
    "my_dict ={\n",
    "    \"Year\":2023,\n",
    "    \"Name\":\"Sylvester\",\n",
    "    \"Profession\":\"ESG Analyst\"\n",
    "}\n",
    "for x in my_dict:\n",
    "    print(my_dict[x])"
   ]
  },
  {
   "cell_type": "code",
   "execution_count": 29,
   "id": "c47c06f9",
   "metadata": {},
   "outputs": [
    {
     "name": "stdout",
     "output_type": "stream",
     "text": [
      "2023\n",
      "Sylvester\n",
      "ESG Analyst\n"
     ]
    }
   ],
   "source": [
    "my_dict ={\n",
    "    \"Year\":2023,\n",
    "    \"Name\":\"Sylvester\",\n",
    "    \"Profession\":\"ESG Analyst\"\n",
    "}\n",
    "for x in my_dict.values():\n",
    "    print(x)"
   ]
  },
  {
   "cell_type": "code",
   "execution_count": 30,
   "id": "66736dfa",
   "metadata": {},
   "outputs": [
    {
     "name": "stdout",
     "output_type": "stream",
     "text": [
      "Year\n",
      "Name\n",
      "Profession\n"
     ]
    }
   ],
   "source": [
    "my_dict ={\n",
    "    \"Year\":2023,\n",
    "    \"Name\":\"Sylvester\",\n",
    "    \"Profession\":\"ESG Analyst\"\n",
    "}\n",
    "for x in my_dict.keys():\n",
    "    print(x)"
   ]
  },
  {
   "cell_type": "code",
   "execution_count": 32,
   "id": "60d6bddb",
   "metadata": {},
   "outputs": [
    {
     "name": "stdout",
     "output_type": "stream",
     "text": [
      "Year : 2023\n",
      "Name : Sylvester\n",
      "Profession : ESG Analyst\n"
     ]
    }
   ],
   "source": [
    "my_dict ={\n",
    "    \"Year\":2023,\n",
    "    \"Name\":\"Sylvester\",\n",
    "    \"Profession\":\"ESG Analyst\"\n",
    "}\n",
    "for x,y in my_dict.items():\n",
    "    print(x, \":\",y)"
   ]
  },
  {
   "cell_type": "markdown",
   "id": "9594d3a9",
   "metadata": {},
   "source": [
    " ## Control flow (IF statements and LOOPS)"
   ]
  },
  {
   "cell_type": "code",
   "execution_count": 33,
   "id": "cfc7860f",
   "metadata": {},
   "outputs": [
    {
     "name": "stdout",
     "output_type": "stream",
     "text": [
      "y is greater than x\n"
     ]
    }
   ],
   "source": [
    "x =50\n",
    "y = 100\n",
    "if y<x:\n",
    "    print(\"y is less than x\")\n",
    "elif y == x:\n",
    "    print(\"They are equal\")\n",
    "else:\n",
    "    print(\"y is greater than x\")"
   ]
  },
  {
   "cell_type": "code",
   "execution_count": 35,
   "id": "8f9aeb9c",
   "metadata": {},
   "outputs": [
    {
     "name": "stdout",
     "output_type": "stream",
     "text": [
      "1\n",
      "2\n",
      "3\n",
      "4\n",
      "5\n"
     ]
    }
   ],
   "source": [
    "## While loop\n",
    "x =1\n",
    "while x<6:\n",
    "    print(x)\n",
    "    x=x+1"
   ]
  },
  {
   "cell_type": "code",
   "execution_count": 37,
   "id": "1f22716f",
   "metadata": {},
   "outputs": [
    {
     "name": "stdout",
     "output_type": "stream",
     "text": [
      "1\n",
      "2\n",
      "3\n"
     ]
    }
   ],
   "source": [
    "#Using the BREAK STATEMENT\n",
    "x =1\n",
    "while x<6:\n",
    "    print(x)\n",
    "    if x == 3:\n",
    "        break\n",
    "    x= x+1"
   ]
  },
  {
   "cell_type": "code",
   "execution_count": 38,
   "id": "8d1f689f",
   "metadata": {},
   "outputs": [
    {
     "name": "stdout",
     "output_type": "stream",
     "text": [
      "1\n",
      "2\n",
      "4\n",
      "5\n",
      "6\n"
     ]
    }
   ],
   "source": [
    "#Applying the CONTINUE STATEMENT\n",
    "x =0\n",
    "while x<6:\n",
    "    x=x+1\n",
    "    if x == 3:\n",
    "        continue\n",
    "    print(x)"
   ]
  },
  {
   "cell_type": "markdown",
   "id": "d7b6600c",
   "metadata": {},
   "source": [
    "## Python Functions"
   ]
  },
  {
   "cell_type": "code",
   "execution_count": 39,
   "id": "461a29ff",
   "metadata": {},
   "outputs": [],
   "source": [
    "#Creating a function using def\n",
    "def my_function():\n",
    "    print(\"Hello World !\")\n"
   ]
  },
  {
   "cell_type": "code",
   "execution_count": 40,
   "id": "555d5b00",
   "metadata": {},
   "outputs": [
    {
     "name": "stdout",
     "output_type": "stream",
     "text": [
      "Hello World !\n"
     ]
    }
   ],
   "source": [
    "my_function()"
   ]
  },
  {
   "cell_type": "code",
   "execution_count": 43,
   "id": "531055e5",
   "metadata": {},
   "outputs": [
    {
     "name": "stdout",
     "output_type": "stream",
     "text": [
      "Selina Bonyah\n",
      "Gabriel Bonyah\n",
      "Joycelin Bonyah\n"
     ]
    }
   ],
   "source": [
    "# Passing argument to a function\n",
    "def my_siblings(fname, lname):\n",
    "    print(fname + )\n",
    "my_siblings(\"Selina\")\n",
    "my_siblings(\"Gabriel\")\n",
    "my_siblings(\"Joycelin\")"
   ]
  },
  {
   "cell_type": "code",
   "execution_count": 45,
   "id": "9c02a7db",
   "metadata": {},
   "outputs": [
    {
     "name": "stdout",
     "output_type": "stream",
     "text": [
      "Sylvester Bonyah\n"
     ]
    }
   ],
   "source": [
    "def my_siblings(fname, lname):\n",
    "    print(fname + \" \"  + lname)\n",
    "my_siblings(\"Sylvester\", \"Bonyah\")"
   ]
  },
  {
   "cell_type": "code",
   "execution_count": 52,
   "id": "dbd9feb0",
   "metadata": {},
   "outputs": [
    {
     "name": "stdout",
     "output_type": "stream",
     "text": [
      "The youngest child is Max\n"
     ]
    }
   ],
   "source": [
    "#Arbitrary Arguments, *args\n",
    "def my_funcs(*kids):\n",
    "    print(\"The youngest child is \" + kids[2])\n",
    "my_funcs(\"Emily\",\"John\",\"Max\",\"Frank\",\"Samuella.\")"
   ]
  },
  {
   "cell_type": "code",
   "execution_count": 51,
   "id": "24daaaf0",
   "metadata": {},
   "outputs": [
    {
     "name": "stdout",
     "output_type": "stream",
     "text": [
      "The youngest child is Samuella.\n"
     ]
    }
   ],
   "source": [
    "def my_function(*kids):\n",
    "    print(\"The youngest child is \" + kids[4])\n",
    "my_function(\"Emily\",\"John\",\"Max\",\"Frank\",\"Samuella.\")"
   ]
  },
  {
   "cell_type": "code",
   "execution_count": 57,
   "id": "de342c07",
   "metadata": {},
   "outputs": [
    {
     "name": "stdout",
     "output_type": "stream",
     "text": [
      "The youngest child is Max.\n"
     ]
    }
   ],
   "source": [
    "def my_function(child1, child2,child3):\n",
    "    print(\"The youngest child is \" + child3)\n",
    "my_function(child1=\"Emily\",child2 =\"John\",child3 =\"Max.\")"
   ]
  },
  {
   "cell_type": "code",
   "execution_count": 61,
   "id": "30618337",
   "metadata": {},
   "outputs": [
    {
     "name": "stdout",
     "output_type": "stream",
     "text": [
      "His last name is van Roy.\n"
     ]
    }
   ],
   "source": [
    "def my_function(**kid):\n",
    "    print(\"His last name is \" + kid[\"lname\"])\n",
    "my_function(fname =\"John\",lname= \"van Roy.\")"
   ]
  },
  {
   "cell_type": "code",
   "execution_count": 64,
   "id": "6f64baab",
   "metadata": {},
   "outputs": [
    {
     "name": "stdout",
     "output_type": "stream",
     "text": [
      "apple\n",
      "banana\n",
      "cherry\n",
      "strawberry\n",
      "raspberry\n"
     ]
    }
   ],
   "source": [
    "# Passing a list as an argument \n",
    "def my_function(food):\n",
    "    for x in food:\n",
    "         print(x)\n",
    "               \n",
    "fruit= [\"apple\", \"banana\", \"cherry\", \"strawberry\", \"raspberry\"]\n",
    "my_function(fruit)"
   ]
  },
  {
   "cell_type": "code",
   "execution_count": 65,
   "id": "2e0b9a0e",
   "metadata": {},
   "outputs": [
    {
     "name": "stdout",
     "output_type": "stream",
     "text": [
      "15\n",
      "25\n",
      "45\n"
     ]
    }
   ],
   "source": [
    "# Returning Values\n",
    "def my_calc(x):\n",
    "    return 5 * x\n",
    "print(my_calc(3))\n",
    "print(my_calc(5))\n",
    "print(my_calc(9))"
   ]
  },
  {
   "cell_type": "code",
   "execution_count": 66,
   "id": "872761eb",
   "metadata": {},
   "outputs": [
    {
     "name": "stdout",
     "output_type": "stream",
     "text": [
      "3\n",
      "None\n"
     ]
    }
   ],
   "source": [
    "#Positional- Only arguments\n",
    "def my_work(x,/):x\n",
    "    print(x)\n",
    "print(my_work(3))"
   ]
  },
  {
   "cell_type": "markdown",
   "id": "5212cf6b",
   "metadata": {},
   "source": [
    "## Python Lambda"
   ]
  },
  {
   "cell_type": "code",
   "execution_count": 67,
   "id": "e572ad1e",
   "metadata": {},
   "outputs": [
    {
     "name": "stdout",
     "output_type": "stream",
     "text": [
      "15\n"
     ]
    }
   ],
   "source": [
    "x = lambda a: a+10\n",
    "print(x(5))"
   ]
  },
  {
   "cell_type": "code",
   "execution_count": 69,
   "id": "3b22e1bd",
   "metadata": {},
   "outputs": [
    {
     "name": "stdout",
     "output_type": "stream",
     "text": [
      "16\n"
     ]
    }
   ],
   "source": [
    "x = lambda a,b: a*b\n",
    "print(x(4,4))"
   ]
  },
  {
   "cell_type": "code",
   "execution_count": 70,
   "id": "fcc10733",
   "metadata": {},
   "outputs": [
    {
     "name": "stdout",
     "output_type": "stream",
     "text": [
      "18\n"
     ]
    }
   ],
   "source": [
    "def my_func(n):\n",
    "    return lambda a: a*n\n",
    "doubler = my_func(2)\n",
    "print(doubler(9))"
   ]
  },
  {
   "cell_type": "markdown",
   "id": "8942e28d",
   "metadata": {},
   "source": [
    "## Python Arrays"
   ]
  },
  {
   "cell_type": "code",
   "execution_count": 73,
   "id": "b14d9714",
   "metadata": {},
   "outputs": [
    {
     "data": {
      "text/plain": [
       "3"
      ]
     },
     "execution_count": 73,
     "metadata": {},
     "output_type": "execute_result"
    }
   ],
   "source": [
    "# Creating Arrays \n",
    "cars = [\"BMW\",\"Tesla\",\"Ford\"]\n",
    "type(cars) # Lists are being treated as arrays because python does not have an in-built support for arrays. \n",
    "len(cars)"
   ]
  },
  {
   "cell_type": "code",
   "execution_count": 74,
   "id": "d928d0be",
   "metadata": {},
   "outputs": [
    {
     "name": "stdout",
     "output_type": "stream",
     "text": [
      "BMW\n",
      "Tesla\n",
      "Ford\n"
     ]
    }
   ],
   "source": [
    "for x in cars:\n",
    "    print(x)"
   ]
  },
  {
   "cell_type": "code",
   "execution_count": 75,
   "id": "ae91306b",
   "metadata": {},
   "outputs": [
    {
     "name": "stdout",
     "output_type": "stream",
     "text": [
      "['BMW', 'Tesla', 'Ford', 'Honda']\n"
     ]
    }
   ],
   "source": [
    "cars.append(\"Honda\")\n",
    "print(cars)"
   ]
  },
  {
   "cell_type": "code",
   "execution_count": 76,
   "id": "7adaf06a",
   "metadata": {},
   "outputs": [
    {
     "name": "stdout",
     "output_type": "stream",
     "text": [
      "['BMW', 'Tesla', 'Ford']\n"
     ]
    }
   ],
   "source": [
    "cars.pop(3)\n",
    "print(cars)"
   ]
  },
  {
   "cell_type": "markdown",
   "id": "1c25c854",
   "metadata": {},
   "source": [
    "## Python Classes and Objects"
   ]
  },
  {
   "cell_type": "code",
   "execution_count": 79,
   "id": "3fe7378c",
   "metadata": {},
   "outputs": [
    {
     "name": "stdout",
     "output_type": "stream",
     "text": [
      "<class '__main__.Myclass'>\n"
     ]
    }
   ],
   "source": [
    "# Create class using the keyword class\n",
    "class Myclass:\n",
    "    x= 5\n",
    "print(Myclass)"
   ]
  },
  {
   "cell_type": "code",
   "execution_count": 80,
   "id": "760a598e",
   "metadata": {},
   "outputs": [
    {
     "name": "stdout",
     "output_type": "stream",
     "text": [
      "5\n"
     ]
    }
   ],
   "source": [
    "# Using the CLASS created to create an object.\n",
    "p1 = Myclass()\n",
    "print(p1.x)"
   ]
  },
  {
   "cell_type": "code",
   "execution_count": 83,
   "id": "8e8fe5cf",
   "metadata": {},
   "outputs": [
    {
     "name": "stdout",
     "output_type": "stream",
     "text": [
      "First Name: Sylvester\n"
     ]
    }
   ],
   "source": [
    "class my_info:\n",
    "    name =\"Sylvester\"\n",
    "message = my_info\n",
    "print(\"First Name:\",message.name)"
   ]
  },
  {
   "cell_type": "code",
   "execution_count": 87,
   "id": "690087d0",
   "metadata": {},
   "outputs": [
    {
     "name": "stdout",
     "output_type": "stream",
     "text": [
      "Maxwell\n",
      "28\n"
     ]
    }
   ],
   "source": [
    "# Using the __init__() function eg. Create a class named Person, use the __init__() function to assign values for name and age:\n",
    "class Person:\n",
    "    def __init__(self, name, age):\n",
    "        self.name = name\n",
    "        self.age = age\n",
    "Info = Person(\"Maxwell\",28)\n",
    "print(Info.name) \n",
    "print(Info.age)\n",
    "        "
   ]
  },
  {
   "cell_type": "code",
   "execution_count": 93,
   "id": "39c2c2a1",
   "metadata": {},
   "outputs": [
    {
     "name": "stdout",
     "output_type": "stream",
     "text": [
      "I bought the dog in 2016\n",
      "I sold the dog in 2020 .\n"
     ]
    }
   ],
   "source": [
    "class Dog:\n",
    "    def __init__(self,bought, sold):\n",
    "        self.bought = bought\n",
    "        self.sold =sold\n",
    "transaction = Dog(2016, 2020)\n",
    "print(\"I bought the dog in\",transaction.bought)\n",
    "print(\"I sold the dog in\",transaction.sold,\".\")"
   ]
  },
  {
   "cell_type": "code",
   "execution_count": 95,
   "id": "9dc204e7",
   "metadata": {},
   "outputs": [
    {
     "name": "stdout",
     "output_type": "stream",
     "text": [
      "('Joseph', 56)\n"
     ]
    }
   ],
   "source": [
    "#The string representation of an object WITH the __str__() function:\n",
    "class Person:\n",
    "    def __init__(self,name,age):\n",
    "        self.name=name\n",
    "        self.age=age\n",
    "def __str__(self):\n",
    "    return f\"{self.name}({self.age})\"\n",
    "p1 = (\"Joseph\", 56)\n",
    "print(p1)"
   ]
  },
  {
   "cell_type": "code",
   "execution_count": 105,
   "id": "26a2b366",
   "metadata": {},
   "outputs": [
    {
     "name": "stdout",
     "output_type": "stream",
     "text": [
      "Hello my name is Frank\n"
     ]
    }
   ],
   "source": [
    "class Person:\n",
    "    def __init__(self,name,age):\n",
    "        self.name = name\n",
    "        self.age = age\n",
    "    def myfunc(self):\n",
    "        print(\"Hello my name is\", self.name)\n",
    "p1 = Person(\"Frank\",35)\n",
    "p1.myfunc()"
   ]
  },
  {
   "cell_type": "code",
   "execution_count": 111,
   "id": "cb269757",
   "metadata": {},
   "outputs": [
    {
     "name": "stdout",
     "output_type": "stream",
     "text": [
      "Hello, I am a Ghanaian and I live in The Netherlands .\n"
     ]
    }
   ],
   "source": [
    "class Identity:\n",
    "    def __init__(self,nationality,residence):\n",
    "        self.nationality = nationality\n",
    "        self.residence = residence\n",
    "    def my_func(self):\n",
    "        print(\"Hello, I am a\", self.nationality,\"and I live in\",self.residence,\".\")\n",
    "info = Identity(\"Ghanaian\",\"The Netherlands\")\n",
    "info.my_func()"
   ]
  },
  {
   "cell_type": "markdown",
   "id": "791a4db1",
   "metadata": {},
   "source": [
    "## Python Inheritance"
   ]
  },
  {
   "cell_type": "code",
   "execution_count": 115,
   "id": "7f87b98e",
   "metadata": {},
   "outputs": [
    {
     "name": "stdout",
     "output_type": "stream",
     "text": [
      "Sylvester van Krabben\n"
     ]
    }
   ],
   "source": [
    "# Creating a PARENT CLASS\n",
    "class Person:\n",
    "    def __init__(self,fname,lname):\n",
    "        self.firstname = fname\n",
    "        self.lastname = lname\n",
    "    def print_name(self):\n",
    "        print(self.firstname,self.lastname)\n",
    "p1= Person(\"Sylvester\",\"van Krabben\")\n",
    "p1.print_name()"
   ]
  },
  {
   "cell_type": "code",
   "execution_count": 117,
   "id": "2114a6d1",
   "metadata": {},
   "outputs": [
    {
     "name": "stdout",
     "output_type": "stream",
     "text": [
      "Bright Erasmus\n"
     ]
    }
   ],
   "source": [
    "#Creating a CHILD CLASS \n",
    "class Student(Person):\n",
    "    pass\n",
    "x= Student(\"Bright\",\"Erasmus\")\n",
    "x.print_name()"
   ]
  },
  {
   "cell_type": "code",
   "execution_count": 118,
   "id": "697a1ce7",
   "metadata": {},
   "outputs": [
    {
     "name": "stdout",
     "output_type": "stream",
     "text": [
      "Lina Erasmina\n"
     ]
    }
   ],
   "source": [
    "class Student(Person):\n",
    "    def __init__(self,fname,lname):\n",
    "        Person.__init__(self,fname,lname)\n",
    "x=Student(\"Lina\",\"Erasmina\")\n",
    "x.print_name()"
   ]
  },
  {
   "cell_type": "code",
   "execution_count": 121,
   "id": "f550c839",
   "metadata": {},
   "outputs": [
    {
     "name": "stdout",
     "output_type": "stream",
     "text": [
      "Sylvester Bonyah\n"
     ]
    }
   ],
   "source": [
    "#Python also has a super() function that will make the child class inherit all the methods and properties from its parent:\n",
    "class Person:\n",
    "    def __init__(self,fname,lname):\n",
    "        self.fname=fname\n",
    "        self.lname=lname\n",
    "    def printname(self):\n",
    "        print(self.fname,self.lname)\n",
    "class Student(Person):\n",
    "    def __init__(self,fname,lname):\n",
    "        super().__init__(fname,lname)\n",
    "x= Student(\"Sylvester\",\"Bonyah\")\n",
    "x.printname()"
   ]
  },
  {
   "cell_type": "code",
   "execution_count": 122,
   "id": "8cbe736f",
   "metadata": {},
   "outputs": [
    {
     "name": "stdout",
     "output_type": "stream",
     "text": [
      "2019\n"
     ]
    }
   ],
   "source": [
    "# Adding Properties\n",
    "class Student(Person):\n",
    "    def __init__(self,fname,lname):\n",
    "        super().__init__(fname,lname)\n",
    "        self.graduation_year=2019\n",
    "x=Student(\"Lina\",\"Erasmina\")\n",
    "print(x.graduation_year)"
   ]
  },
  {
   "cell_type": "code",
   "execution_count": 124,
   "id": "2dd5b3a5",
   "metadata": {},
   "outputs": [
    {
     "name": "stdout",
     "output_type": "stream",
     "text": [
      "2020\n",
      "Lina Erasmina\n"
     ]
    }
   ],
   "source": [
    "#Add a year parameter, and pass the correct year when creating objects:\n",
    "class Student(Person):\n",
    "    def __init__(self,fname,lname,year):\n",
    "        super().__init__(fname,lname)\n",
    "        self.graduation_year = 2020\n",
    "x= Student(\"Lina\",\"Erasmina\",2019)\n",
    "print(x.graduation_year)\n",
    "x.printname()"
   ]
  },
  {
   "cell_type": "code",
   "execution_count": 129,
   "id": "cbf5111a",
   "metadata": {},
   "outputs": [
    {
     "name": "stdout",
     "output_type": "stream",
     "text": [
      "Welcome Lina Erasmina to the class of 2019\n"
     ]
    }
   ],
   "source": [
    "### Adding Methods\n",
    "class Student(Person):\n",
    "    def __init__(self,fname,lname,year):\n",
    "        super().__init__(fname,lname)\n",
    "        self.graduation_year = year\n",
    "    def welcome(self):\n",
    "        print(\"Welcome\",self.fname,self.lname,\"to the class of\",self.graduation_year)\n",
    "x= Student(\"Lina\",\"Erasmina\",2019)\n",
    "x.welcome()"
   ]
  },
  {
   "cell_type": "markdown",
   "id": "768f0e4f",
   "metadata": {},
   "source": [
    "## Python Polymorphism"
   ]
  },
  {
   "cell_type": "code",
   "execution_count": 130,
   "id": "188f2ed7",
   "metadata": {},
   "outputs": [
    {
     "name": "stdout",
     "output_type": "stream",
     "text": [
      "Drive!\n",
      "Sail!\n",
      "Take-off\n"
     ]
    }
   ],
   "source": [
    "#Class Polymorphism is often used when the different classes have one method.\n",
    "class Car:\n",
    "    def __init__(self,brand,model):\n",
    "        self.brand= brand\n",
    "        self.model=model\n",
    "    def move(self):\n",
    "        print(\"Drive!\")\n",
    "class Boat:\n",
    "    def __init__(self,brand,model):\n",
    "        self.brand=brand\n",
    "        self.model=model\n",
    "    def move(self):\n",
    "        print(\"Sail!\")\n",
    "class Plane:\n",
    "    def __init__(self, brand, model):\n",
    "        self.brand = brand\n",
    "        self.model = model\n",
    "    def move(self):\n",
    "        print(\"Take-off\")\n",
    "car1 = Car(\"Ford\", \"Mustang\")       \n",
    "boat1 = Boat(\"Ibiza\", \"Touring 20\") \n",
    "plane1 = Plane(\"Boeing\", \"747\") \n",
    "for x in (car1,boat1,plane1):\n",
    "    x.move()"
   ]
  },
  {
   "cell_type": "code",
   "execution_count": 134,
   "id": "b14a9c11",
   "metadata": {},
   "outputs": [
    {
     "name": "stdout",
     "output_type": "stream",
     "text": [
      "300\n",
      "100\n"
     ]
    }
   ],
   "source": [
    "# Scope - local or global\n",
    "x = 100\n",
    "def my_func():\n",
    "    x=300\n",
    "    print(x)\n",
    "my_func()\n",
    "print(x)   "
   ]
  },
  {
   "cell_type": "code",
   "execution_count": 136,
   "id": "109624b7",
   "metadata": {},
   "outputs": [
    {
     "name": "stdout",
     "output_type": "stream",
     "text": [
      "300\n",
      "300\n"
     ]
    }
   ],
   "source": [
    "def my_func():\n",
    "    global x\n",
    "    x=300\n",
    "    print(x)\n",
    "my_func()\n",
    "print(x)   "
   ]
  },
  {
   "cell_type": "code",
   "execution_count": 142,
   "id": "c6cffe0c",
   "metadata": {},
   "outputs": [
    {
     "name": "stdout",
     "output_type": "stream",
     "text": [
      "Windows\n"
     ]
    }
   ],
   "source": [
    "import platform\n",
    "x=platform.system()\n",
    "print(x)"
   ]
  },
  {
   "cell_type": "code",
   "execution_count": 143,
   "id": "f4fc21d5",
   "metadata": {},
   "outputs": [
    {
     "name": "stdout",
     "output_type": "stream",
     "text": [
      "['_Processor', '_WIN32_CLIENT_RELEASES', '_WIN32_SERVER_RELEASES', '__builtins__', '__cached__', '__copyright__', '__doc__', '__file__', '__loader__', '__name__', '__package__', '__spec__', '__version__', '_comparable_version', '_component_re', '_default_architecture', '_follow_symlinks', '_get_machine_win32', '_ironpython26_sys_version_parser', '_ironpython_sys_version_parser', '_java_getprop', '_libc_search', '_mac_ver_xml', '_node', '_norm_version', '_os_release_cache', '_os_release_candidates', '_os_release_line', '_os_release_unescape', '_parse_os_release', '_platform', '_platform_cache', '_pypy_sys_version_parser', '_sys_version', '_sys_version_cache', '_sys_version_parser', '_syscmd_file', '_syscmd_ver', '_uname_cache', '_unknown_as_blank', '_ver_output', '_ver_stages', 'architecture', 'collections', 'freedesktop_os_release', 'functools', 'itertools', 'java_ver', 'libc_ver', 'mac_ver', 'machine', 'node', 'os', 'platform', 'processor', 'python_branch', 'python_build', 'python_compiler', 'python_implementation', 'python_revision', 'python_version', 'python_version_tuple', 're', 'release', 'sys', 'system', 'system_alias', 'uname', 'uname_result', 'version', 'win32_edition', 'win32_is_iot', 'win32_ver']\n"
     ]
    }
   ],
   "source": [
    "x= dir(platform)\n",
    "print(x)"
   ]
  },
  {
   "cell_type": "code",
   "execution_count": 152,
   "id": "537bcc04",
   "metadata": {},
   "outputs": [
    {
     "name": "stdout",
     "output_type": "stream",
     "text": [
      "2024-01-22 18:22:03.439198\n",
      "Monday\n",
      "2024\n"
     ]
    }
   ],
   "source": [
    "import datetime\n",
    "x=datetime.datetime.now()\n",
    "print(x)\n",
    "print(x.strftime(\"%A\"))\n",
    "print(x.year)"
   ]
  },
  {
   "cell_type": "markdown",
   "id": "4f67e6fb",
   "metadata": {},
   "source": [
    "## Python JSON"
   ]
  },
  {
   "cell_type": "code",
   "execution_count": 1,
   "id": "daacdfbb",
   "metadata": {},
   "outputs": [
    {
     "name": "stdout",
     "output_type": "stream",
     "text": [
      "{\"name\": \"John\", \"age\": 30}\n",
      "[\"apple\", \"bananas\"]\n",
      "[\"apple\", \"bananas\"]\n",
      "\"hello\"\n",
      "42\n",
      "31.76\n",
      "true\n",
      "false\n",
      "null\n"
     ]
    }
   ],
   "source": [
    "import json\n",
    "print(json.dumps({\"name\": \"John\", \"age\": 30}))\n",
    "print(json.dumps([\"apple\", \"bananas\"]))\n",
    "print(json.dumps((\"apple\", \"bananas\")))\n",
    "print(json.dumps(\"hello\"))\n",
    "print(json.dumps(42))\n",
    "print(json.dumps(31.76))\n",
    "print(json.dumps(True))\n",
    "print(json.dumps(False))\n",
    "print(json.dumps(None))"
   ]
  },
  {
   "cell_type": "markdown",
   "id": "93fbf4da",
   "metadata": {},
   "source": [
    "## Regular Expressions or RegEx"
   ]
  },
  {
   "cell_type": "code",
   "execution_count": 4,
   "id": "0fdc2755",
   "metadata": {},
   "outputs": [
    {
     "name": "stdout",
     "output_type": "stream",
     "text": [
      "Yes! there is a match\n"
     ]
    }
   ],
   "source": [
    "import re\n",
    "Txt = \"The rain in Spain\"\n",
    "x= re.search(\"^The.*Spain$\",Txt)\n",
    "if x:\n",
    "    print(\"Yes! there is a match\")\n",
    "else:\n",
    "    print(\"There is no match\")"
   ]
  },
  {
   "cell_type": "code",
   "execution_count": 5,
   "id": "5203ec4b",
   "metadata": {},
   "outputs": [
    {
     "name": "stdout",
     "output_type": "stream",
     "text": [
      "There is no match\n"
     ]
    }
   ],
   "source": [
    "import re\n",
    "Txt = \"rain in Spain\"\n",
    "x= re.search(\"^The.*Spain$\",Txt)\n",
    "if x:\n",
    "    print(\"Yes! there is a match\")\n",
    "else:\n",
    "    print(\"There is no match\")"
   ]
  },
  {
   "cell_type": "code",
   "execution_count": 9,
   "id": "10838b14",
   "metadata": {},
   "outputs": [
    {
     "name": "stdout",
     "output_type": "stream",
     "text": [
      "['5', '0', '0', '3', '5', '0', '0']\n"
     ]
    }
   ],
   "source": [
    "import re\n",
    "\n",
    "txt = \"There were 500 hundred people in the 3500 seater theatre\"\n",
    "\n",
    "#Find all digit characters in the text:\n",
    "\n",
    "x = re.findall(\"\\d\", txt)\n",
    "print(x)\n"
   ]
  },
  {
   "cell_type": "code",
   "execution_count": 6,
   "id": "40c69fb0",
   "metadata": {},
   "outputs": [
    {
     "name": "stdout",
     "output_type": "stream",
     "text": [
      "['h', 'e', 'a', 'i', 'i', 'a', 'i']\n"
     ]
    }
   ],
   "source": [
    "# Find all lower case characters alphabetiocally between \"a\" and \"m\"\n",
    "txt = \"The rain in Spain\"\n",
    "x= re.findall(\"[a-m]\",txt)\n",
    "print(x)"
   ]
  },
  {
   "cell_type": "code",
   "execution_count": 20,
   "id": "2d1d6a96",
   "metadata": {},
   "outputs": [
    {
     "name": "stdout",
     "output_type": "stream",
     "text": [
      "The price is 50.0 dollars.\n"
     ]
    }
   ],
   "source": [
    "price = 50.000\n",
    "txt = \"The price is {} dollars.\"\n",
    "print(txt.format(price))\n"
   ]
  },
  {
   "cell_type": "code",
   "execution_count": 18,
   "id": "ef01e436",
   "metadata": {},
   "outputs": [
    {
     "name": "stdout",
     "output_type": "stream",
     "text": [
      "The price is 50.00 dollars.\n"
     ]
    }
   ],
   "source": [
    "price = 50\n",
    "txt = \"The price is {} dollars.\"\n",
    "print(txt.format(price))"
   ]
  },
  {
   "cell_type": "code",
   "execution_count": null,
   "id": "095e8e53",
   "metadata": {},
   "outputs": [],
   "source": []
  }
 ],
 "metadata": {
  "kernelspec": {
   "display_name": "Python 3 (ipykernel)",
   "language": "python",
   "name": "python3"
  },
  "language_info": {
   "codemirror_mode": {
    "name": "ipython",
    "version": 3
   },
   "file_extension": ".py",
   "mimetype": "text/x-python",
   "name": "python",
   "nbconvert_exporter": "python",
   "pygments_lexer": "ipython3",
   "version": "3.11.5"
  }
 },
 "nbformat": 4,
 "nbformat_minor": 5
}
